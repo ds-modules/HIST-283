{
 "cells": [
  {
   "cell_type": "code",
   "execution_count": null,
   "metadata": {},
   "outputs": [],
   "source": [
    "from selenium import webdriver  # powers the browser interaction\n",
    "from selenium.webdriver.support.ui import Select  # selects menu options\n",
    "from bs4 import BeautifulSoup  # to parse HTML\n",
    "import csv  # to write CSV\n",
    "import pandas as pd  # to see CSV\n",
    "import time\n",
    "import os\n",
    "import random\n",
    "import requests\n",
    "from string import punctuation\n",
    "import re\n",
    "import urllib"
   ]
  },
  {
   "cell_type": "code",
   "execution_count": null,
   "metadata": {},
   "outputs": [],
   "source": [
    "df = pd.read_csv('data/AHA-jobs.csv')"
   ]
  },
  {
   "cell_type": "code",
   "execution_count": null,
   "metadata": {},
   "outputs": [],
   "source": [
    "def get_key(x):\n",
    "    to_replace = ['Medieval Institute','History', 'Department', 'Divinity', 'School', '  ', 'Public Policy', 'Business', 'Center', 'Studies']\n",
    "    \n",
    "    for r in to_replace:\n",
    "        x = x.replace(r, '')\n",
    "        \n",
    "#     more = x.split(',')\n",
    "#     if len(more) > 1:\n",
    "#         for i in more:\n",
    "#             if 'College' in i:\n",
    "#                 x = i\n",
    "#             elif 'University' in i:\n",
    "#                 x = i\n",
    "    x = x.strip()      \n",
    "    if x[-2:] == 'of':\n",
    "        x = x[:-2]\n",
    "        \n",
    "    for p in punctuation:\n",
    "        x = x.replace(p, '')\n",
    "                \n",
    "    return x.strip()"
   ]
  },
  {
   "cell_type": "code",
   "execution_count": null,
   "metadata": {},
   "outputs": [],
   "source": [
    "all_dicts = []\n",
    "driver = webdriver.PhantomJS()\n",
    "for search in set(df['employer']):\n",
    "\n",
    "    print(search)\n",
    "    driver.get(\"https://www.wikipedia.org/\")\n",
    "\n",
    "    driver.find_element_by_css_selector('#searchInput').send_keys(get_key(search))\n",
    "\n",
    "    driver.find_element_by_css_selector('#search-form > fieldset > button > i').click()\n",
    "\n",
    "    soup = BeautifulSoup(driver.page_source, 'html5lib')\n",
    "    \n",
    "    uni_dict = {}\n",
    "    uni_dict['search'] = search\n",
    "    \n",
    "    try:\n",
    "\n",
    "        if soup.find('h1', {'id': 'firstHeading'}).text.strip() == 'Search results':\n",
    "            base = 'https://en.wikipedia.org'\n",
    "            extension = soup.find_all('div', {'class': 'mw-search-result-heading'})[0].find('a')['href']\n",
    "            driver.get(base + extension)\n",
    "\n",
    "\n",
    "        detail_rows = soup.find('table', {'class': 'infobox vcard'}).find_all('tr')\n",
    "\n",
    "        for d in detail_rows:\n",
    "            if d.find('th') != None:\n",
    "                key = d.find('th').text.strip()\n",
    "                value = d.find('td').text.strip()\n",
    "                uni_dict[key] = value\n",
    "    \n",
    "    except:\n",
    "        pass\n",
    "    \n",
    "    all_dicts.append(uni_dict)\n",
    "\n",
    "    \n",
    "    time.sleep(1)"
   ]
  },
  {
   "cell_type": "code",
   "execution_count": null,
   "metadata": {},
   "outputs": [],
   "source": [
    "all_dicts[2]"
   ]
  },
  {
   "cell_type": "code",
   "execution_count": null,
   "metadata": {},
   "outputs": [],
   "source": [
    "import json\n",
    "\n",
    "json.dump(all_dicts, open('wiki.json', 'w'))"
   ]
  },
  {
   "cell_type": "code",
   "execution_count": null,
   "metadata": {},
   "outputs": [],
   "source": [
    "def get_info(x, key):\n",
    "    for d in all_dicts:\n",
    "        if d['search'] == x:\n",
    "            if key in d:\n",
    "                return d[key]\n",
    "            else:\n",
    "                return None"
   ]
  },
  {
   "cell_type": "code",
   "execution_count": null,
   "metadata": {},
   "outputs": [],
   "source": [
    "df['postgraduates'] = df['employer'].apply(get_info, args=('Postgraduates',))\n",
    "df['undergraduates'] = df['employer'].apply(get_info, args=('Undergraduates',))\n",
    "df['endowment'] = df['employer'].apply(get_info, args=('Endowment',))\n",
    "df['established'] = df['employer'].apply(get_info, args=('Established',))\n",
    "df['campus'] = df['employer'].apply(get_info, args=('Campus',))\n",
    "df['academic_staff'] = df['employer'].apply(get_info, args=('Academic staff',))"
   ]
  },
  {
   "cell_type": "code",
   "execution_count": null,
   "metadata": {},
   "outputs": [],
   "source": [
    "df.head()"
   ]
  },
  {
   "cell_type": "code",
   "execution_count": null,
   "metadata": {},
   "outputs": [],
   "source": [
    "def graduates(x):\n",
    "    if type(x) == str:\n",
    "        match = re.search(r'([0-9]+,?[0-9]+)', x)\n",
    "        if match.groups():\n",
    "            return match.groups()[0].replace(',', '')\n",
    "    else:\n",
    "        return None"
   ]
  },
  {
   "cell_type": "code",
   "execution_count": null,
   "metadata": {},
   "outputs": [],
   "source": [
    "def acres(x):\n",
    "    if type(x) == str:\n",
    "        match = re.search(r'([0-9]+,?[0-9]+)\\sacres', x)\n",
    "        if match != None:\n",
    "            return match.groups()[0].replace(',', '')\n",
    "    else:\n",
    "        return None"
   ]
  },
  {
   "cell_type": "code",
   "execution_count": null,
   "metadata": {},
   "outputs": [],
   "source": [
    "def year(x):\n",
    "    if type(x) == str:\n",
    "        match = re.search(r'([0-9]{4})', x)\n",
    "        if match != None:\n",
    "            return match.groups()[0]\n",
    "    else:\n",
    "        return None"
   ]
  },
  {
   "cell_type": "code",
   "execution_count": null,
   "metadata": {},
   "outputs": [],
   "source": [
    "def endowment(x):\n",
    "    if type(x) == str:\n",
    "        match = re.search(r'(\\$([0-9]+\\.?[0-9]+)\\s(million|billion))', x)\n",
    "        if match != None:\n",
    "            num = float(match.groups()[1])\n",
    "            if match.groups()[2] == 'billion':\n",
    "                num = num * 1000000000\n",
    "                return str(num)[:-2]\n",
    "            elif match.groups()[2] == 'million':\n",
    "                num = num * 1000000\n",
    "                return str(num)[:-2]"
   ]
  },
  {
   "cell_type": "code",
   "execution_count": null,
   "metadata": {},
   "outputs": [],
   "source": [
    "df['postgraduates'] = df['postgraduates'].apply(graduates)\n",
    "df['undergraduates'] = df['undergraduates'].apply(graduates)\n",
    "df['endowment'] = df['endowment'].apply(endowment)\n",
    "df['established'] = df['established'].apply(year)\n",
    "df['campus'] = df['campus'].apply(acres)\n",
    "df['academic_staff'] = df['academic_staff'].apply(graduates)"
   ]
  },
  {
   "cell_type": "code",
   "execution_count": null,
   "metadata": {},
   "outputs": [],
   "source": [
    "df.head()"
   ]
  },
  {
   "cell_type": "code",
   "execution_count": null,
   "metadata": {},
   "outputs": [],
   "source": [
    "df.to_csv('testing.csv', index=False)"
   ]
  },
  {
   "cell_type": "code",
   "execution_count": null,
   "metadata": {},
   "outputs": [],
   "source": [
    "df2 = pd.read_csv('testing.csv')"
   ]
  },
  {
   "cell_type": "code",
   "execution_count": null,
   "metadata": {},
   "outputs": [],
   "source": [
    "df2.describe()"
   ]
  },
  {
   "cell_type": "code",
   "execution_count": null,
   "metadata": {},
   "outputs": [],
   "source": [
    "df2.corr()"
   ]
  },
  {
   "cell_type": "code",
   "execution_count": null,
   "metadata": {},
   "outputs": [],
   "source": [
    "%matplotlib inline"
   ]
  },
  {
   "cell_type": "code",
   "execution_count": null,
   "metadata": {},
   "outputs": [],
   "source": [
    "df2.plot.scatter('undergraduates', 'established')"
   ]
  },
  {
   "cell_type": "code",
   "execution_count": null,
   "metadata": {
    "scrolled": true
   },
   "outputs": [],
   "source": [
    "df2.plot.scatter('postgraduates', 'academic_staff')"
   ]
  },
  {
   "cell_type": "code",
   "execution_count": null,
   "metadata": {},
   "outputs": [],
   "source": [
    "latitude = []\n",
    "longitude = []\n",
    "for i in df2['employer']:\n",
    "    search = urllib.parse.quote(i)\n",
    "    \n",
    "    print(search)\n",
    "\n",
    "    try:\n",
    "        json_res = requests.get('https://maps.googleapis.com/maps/api/geocode/json?address={}'.format(search)).json()\n",
    "        coordinates = json_res['results'][0]['geometry']['location']\n",
    "        latitude.append(coordinates['lat'])\n",
    "        longitude.append(coordinates['lng'])\n",
    "    except:\n",
    "        latitude.append(None)\n",
    "        longitude.append(None)\n",
    "\n",
    "    time.sleep(.5)"
   ]
  },
  {
   "cell_type": "code",
   "execution_count": null,
   "metadata": {},
   "outputs": [],
   "source": [
    "df2['latitude'] = latitude\n",
    "df2['longitude'] = longitude"
   ]
  },
  {
   "cell_type": "code",
   "execution_count": null,
   "metadata": {},
   "outputs": [],
   "source": [
    "df2.head()"
   ]
  },
  {
   "cell_type": "code",
   "execution_count": null,
   "metadata": {},
   "outputs": [],
   "source": [
    "df2.to_csv('test2.csv', index=False)"
   ]
  },
  {
   "cell_type": "code",
   "execution_count": null,
   "metadata": {},
   "outputs": [],
   "source": [
    "pd.read_csv('test2.csv').describe()"
   ]
  },
  {
   "cell_type": "code",
   "execution_count": null,
   "metadata": {},
   "outputs": [],
   "source": []
  }
 ],
 "metadata": {
  "anaconda-cloud": {},
  "kernelspec": {
   "display_name": "Python [conda root]",
   "language": "python",
   "name": "conda-root-py"
  },
  "language_info": {
   "codemirror_mode": {
    "name": "ipython",
    "version": 3
   },
   "file_extension": ".py",
   "mimetype": "text/x-python",
   "name": "python",
   "nbconvert_exporter": "python",
   "pygments_lexer": "ipython3",
   "version": "3.5.2"
  }
 },
 "nbformat": 4,
 "nbformat_minor": 2
}
